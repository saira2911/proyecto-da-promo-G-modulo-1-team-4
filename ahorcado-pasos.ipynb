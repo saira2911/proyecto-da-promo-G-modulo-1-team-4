{
 "cells": [
  {
   "cell_type": "code",
   "execution_count": 3,
   "metadata": {},
   "outputs": [
    {
     "name": "stdout",
     "output_type": "stream",
     "text": [
      "*********\n",
      "O\n",
      "*********\n",
      "*a*a****a\n",
      "*a*a**i*a\n",
      " O\n",
      "/\n",
      "*a*a**i*a\n",
      " O\n",
      "/|\n",
      "*a*a**i*a\n",
      " O\n",
      "/|\\\n",
      "*a*a**i*a\n"
     ]
    }
   ],
   "source": [
    "import random\n",
    "\n",
    "palabras = [\"lagartija\"]\n",
    "\n",
    "palabra_secreta = random.choice(palabras)\n",
    "\n",
    "palabra_oculta = \"*\" * len(palabra_secreta)\n",
    "\n",
    "vidas = 0 \n",
    "\n",
    "while True:\n",
    "    print(palabra_oculta)\n",
    "    letra = input(\"Introduce una letra\")\n",
    "    if letra in palabra_secreta:\n",
    "        for i in range(len(palabra_secreta)):\n",
    "            if palabra_secreta[i]==letra:\n",
    "                palabra_oculta = palabra_oculta[:i]+letra+palabra_oculta[i+1:]\n",
    "\n",
    "    else: \n",
    "        vidas+=1\n",
    "        if vidas == 1:\n",
    "           print(\"O\")\n",
    "        elif vidas == 2:\n",
    "           print(\" O\")\n",
    "           print(\"/\")\n",
    "\n",
    "        elif vidas == 3:\n",
    "           print(\" O\")\n",
    "           print(\"/|\")   \n",
    "\n",
    "        elif vidas == 4:\n",
    "           print(\" O\")\n",
    "           print(\"/|\\\\\")\n",
    "\n",
    "        elif vidas == 5:\n",
    "           print(\" O\")\n",
    "           print(\"/|\\\\\")\n",
    "           print(\"/\")\n",
    "           \n",
    "        elif vidas == 6:\n",
    "           print(\" O\")\n",
    "           print(\"/|\\\\\")\n",
    "           print(\"/ \\\\\")\n",
    "\n",
    "           print(\"Has perdido el juego\")\n",
    "           break\n",
    "    if palabra_oculta == palabra_secreta:\n",
    "        print(\"¡Enhorabuena , has ganado el juego!\")    \n",
    "        break     \n",
    "\n",
    "           \n",
    "\n"
   ]
  },
  {
   "cell_type": "markdown",
   "metadata": {},
   "source": [
    "#### .lower"
   ]
  }
 ],
 "metadata": {
  "kernelspec": {
   "display_name": "base",
   "language": "python",
   "name": "python3"
  },
  "language_info": {
   "codemirror_mode": {
    "name": "ipython",
    "version": 3
   },
   "file_extension": ".py",
   "mimetype": "text/x-python",
   "name": "python",
   "nbconvert_exporter": "python",
   "pygments_lexer": "ipython3",
   "version": "3.9.12"
  }
 },
 "nbformat": 4,
 "nbformat_minor": 2
}
