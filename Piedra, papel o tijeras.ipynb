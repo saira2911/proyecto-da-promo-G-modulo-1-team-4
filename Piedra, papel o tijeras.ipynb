{
 "cells": [
  {
   "cell_type": "code",
   "execution_count": 1,
   "metadata": {},
   "outputs": [],
   "source": [
    "import random"
   ]
  },
  {
   "cell_type": "code",
   "execution_count": 2,
   "metadata": {},
   "outputs": [],
   "source": [
    "usuario=input(\"piedra, papel, tijera\")\n",
    "\n",
    "lista = [\"piedra\",\"papel\",\"tijeras\"]\n",
    "\n",
    "maquina= random.choice(lista)"
   ]
  },
  {
   "cell_type": "code",
   "execution_count": 3,
   "metadata": {},
   "outputs": [
    {
     "data": {
      "text/plain": [
       "'piedra'"
      ]
     },
     "execution_count": 3,
     "metadata": {},
     "output_type": "execute_result"
    }
   ],
   "source": [
    "usuario"
   ]
  },
  {
   "cell_type": "code",
   "execution_count": 4,
   "metadata": {},
   "outputs": [
    {
     "data": {
      "text/plain": [
       "'papel'"
      ]
     },
     "execution_count": 4,
     "metadata": {},
     "output_type": "execute_result"
    }
   ],
   "source": [
    "maquina"
   ]
  },
  {
   "cell_type": "markdown",
   "metadata": {},
   "source": [
    "Usuario\tMaquina\tResultado\n",
    "Piedra\tPiedra\tEmpate\n",
    "Piedra\tPapel\tGM\n",
    "Piedra\tTijera\tGU\n",
    "Papel\tPiedra\tGU\n",
    "Papel\tPapel\tEmpate\n",
    "Papel\tTijera\tGM\n",
    "Tijera\tPiedra\tGM\n",
    "Tijera\tPapel\tGU\n",
    "Tijera\tTijera\tEmpate\n"
   ]
  },
  {
   "cell_type": "code",
   "execution_count": null,
   "metadata": {},
   "outputs": [],
   "source": []
  },
  {
   "cell_type": "code",
   "execution_count": 13,
   "metadata": {},
   "outputs": [
    {
     "name": "stdout",
     "output_type": "stream",
     "text": [
      "Gana Maquina, la maquina eligió papel \n",
      "Por favor, introduzca uno de estos tres: piedra, papel o tijera\n",
      "Gana usuario, la maquina eligió papel \n",
      "Gana Maquina, la maquina eligió tijera \n",
      "La maquina gana la partida\n"
     ]
    }
   ],
   "source": [
    "import random\n",
    "\n",
    "\n",
    "lista = [\"piedra\",\"papel\",\"tijera\"]\n",
    "\n",
    "rondas = 3\n",
    "\n",
    "resultado = []\n",
    "\n",
    "while rondas > 0:\n",
    "\n",
    "    usuario=input(\"piedra, papel, tijera\").lower()\n",
    "    maquina = random.choice(lista)\n",
    "    \n",
    "    if usuario == \"piedra\":\n",
    "        if maquina == \"piedra\":\n",
    "            print(f\"empate,la maquina eligió {maquina} \")\n",
    "        elif maquina == \"papel\":\n",
    "            print(f\"Gana Maquina, la maquina eligió {maquina} 🧾\")\n",
    "            rondas -= 1\n",
    "            resultado.append(\"M\")\n",
    "        else:\n",
    "            print(f\"Gana usuario, la maquina eligió {maquina} \")\n",
    "            rondas -= 1  \n",
    "            resultado.append(\"U\")\n",
    "\n",
    "    elif usuario == \"papel\":\n",
    "        if maquina == \"piedra\":\n",
    "            print(f\"Gana usuario, la maquina eligió {maquina} \")\n",
    "            rondas -= 1\n",
    "            resultado.append(\"U\")\n",
    "        elif maquina == \"papel\":\n",
    "            print(f\"empate,la maquina eligió {maquina} \")\n",
    "        else:\n",
    "            print(f\"Gana Maquina, la maquina eligió {maquina} \")\n",
    "            rondas -= 1\n",
    "            resultado.append(\"M\")\n",
    "\n",
    "    elif usuario == \"tijera\":\n",
    "        if maquina == \"piedra\":\n",
    "            print(f\"Gana Maquina, la maquina eligió {maquina} \")\n",
    "            resultado.append(\"M\")\n",
    "            rondas -= 1 \n",
    "        elif maquina == \"papel\":\n",
    "            print(f\"Gana usuario, la maquina eligió {maquina} \")\n",
    "            rondas -= 1\n",
    "            resultado.append(\"U\")\n",
    "        else:\n",
    "            print(f\"empate,la maquina eligió {maquina} \")    \n",
    "    else:\n",
    "        print(\"Por favor, introduzca uno de estos tres: piedra, papel o tijera\")\n",
    "        continue\n",
    "\n",
    "if resultado.count(\"U\") >= 2:\n",
    "    print(\"¡Enhorabuena! Has ganado la partida\")\n",
    "\n",
    "elif resultado.count(\"M\") >= 2:\n",
    "    print(\"¡Game Over! La maquina gana la partida\")\n",
    "\n",
    "else:\n",
    "    print(\"No gana nadie\")"
   ]
  }
 ],
 "metadata": {
  "kernelspec": {
   "display_name": "base",
   "language": "python",
   "name": "python3"
  },
  "language_info": {
   "codemirror_mode": {
    "name": "ipython",
    "version": 3
   },
   "file_extension": ".py",
   "mimetype": "text/x-python",
   "name": "python",
   "nbconvert_exporter": "python",
   "pygments_lexer": "ipython3",
   "version": "3.9.7"
  }
 },
 "nbformat": 4,
 "nbformat_minor": 2
}
