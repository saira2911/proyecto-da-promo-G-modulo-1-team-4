{
 "cells": [
  {
   "cell_type": "code",
   "execution_count": 1,
   "metadata": {},
   "outputs": [],
   "source": [
    "import random"
   ]
  },
  {
   "cell_type": "code",
   "execution_count": 2,
   "metadata": {},
   "outputs": [],
   "source": [
    "usuario=input(\"piedra, papel, tijera\")\n",
    "\n",
    "lista = [\"piedra\",\"papel\",\"tijeras\"]\n",
    "\n",
    "maquina= random.choice(lista)"
   ]
  },
  {
   "cell_type": "code",
   "execution_count": 3,
   "metadata": {},
   "outputs": [
    {
     "data": {
      "text/plain": [
       "'piedra'"
      ]
     },
     "execution_count": 3,
     "metadata": {},
     "output_type": "execute_result"
    }
   ],
   "source": [
    "usuario"
   ]
  },
  {
   "cell_type": "code",
   "execution_count": 4,
   "metadata": {},
   "outputs": [
    {
     "data": {
      "text/plain": [
       "'papel'"
      ]
     },
     "execution_count": 4,
     "metadata": {},
     "output_type": "execute_result"
    }
   ],
   "source": [
    "maquina"
   ]
  },
  {
   "cell_type": "markdown",
   "metadata": {},
   "source": [
    "Usuario\tMaquina\tResultado\n",
    "Piedra\tPiedra\tEmpate\n",
    "Piedra\tPapel\tGM\n",
    "Piedra\tTijera\tGU\n",
    "Papel\tPiedra\tGU\n",
    "Papel\tPapel\tEmpate\n",
    "Papel\tTijera\tGM\n",
    "Tijera\tPiedra\tGM\n",
    "Tijera\tPapel\tGU\n",
    "Tijera\tTijera\tEmpate\n"
   ]
  },
  {
   "cell_type": "code",
   "execution_count": 10,
   "metadata": {},
   "outputs": [
    {
     "name": "stdout",
     "output_type": "stream",
     "text": [
      "empate,la maquina eligió tijera \n"
     ]
    }
   ],
   "source": [
    "import random\n",
    "\n",
    "\n",
    "usuario=input(\"piedra, papel, tijera\")\n",
    "\n",
    "lista = [\"piedra\",\"papel\",\"tijera\"]\n",
    "\n",
    "maquina= random.choice(lista)\n",
    "\n",
    "\n",
    "if usuario == \"piedra\":\n",
    "    if maquina == \"piedra\":\n",
    "        print(f\"empate,la maquina eligió {maquina} \")\n",
    "    elif maquina == \"papel\":\n",
    "        print(f\"Gana Maquina, la maquina eligió {maquina} \")\n",
    "    else:\n",
    "        print(f\"Gana usuario, la maquina eligió {maquina} \")  \n",
    "\n",
    "elif usuario == \"papel\":\n",
    "    if maquina == \"piedra\":\n",
    "        print(f\"Gana usuario, la maquina eligió {maquina} \")\n",
    "    elif maquina == \"papel\":\n",
    "        print(f\"empate,la maquina eligió {maquina} \")\n",
    "    else:\n",
    "        print(f\"Gana Maquina, la maquina eligió {maquina} \")\n",
    "\n",
    "else: #Tijera\n",
    "    if maquina == \"piedra\":\n",
    "        print(f\"Gana Maquina, la maquina eligió {maquina} \") \n",
    "    elif maquina == \"papel\":\n",
    "        print(f\"Gana usuario, la maquina eligió {maquina} \")\n",
    "    else:\n",
    "        print(f\"empate,la maquina eligió {maquina} \")    \n",
    "    \n"
   ]
  }
 ],
 "metadata": {
  "kernelspec": {
   "display_name": "base",
   "language": "python",
   "name": "python3"
  },
  "language_info": {
   "codemirror_mode": {
    "name": "ipython",
    "version": 3
   },
   "file_extension": ".py",
   "mimetype": "text/x-python",
   "name": "python",
   "nbconvert_exporter": "python",
   "pygments_lexer": "ipython3",
   "version": "3.9.7"
  }
 },
 "nbformat": 4,
 "nbformat_minor": 2
}
