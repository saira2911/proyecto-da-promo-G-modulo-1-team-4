{
 "cells": [
  {
   "cell_type": "code",
   "execution_count": 1,
   "metadata": {},
   "outputs": [],
   "source": [
    "import random"
   ]
  },
  {
   "cell_type": "code",
   "execution_count": 2,
   "metadata": {},
   "outputs": [],
   "source": [
    "usuario=input(\"piedra, papel, tijera\")\n",
    "\n",
    "lista = [\"piedra\",\"papel\",\"tijeras\"]\n",
    "\n",
    "maquina= random.choice(lista)"
   ]
  },
  {
   "cell_type": "code",
   "execution_count": 3,
   "metadata": {},
   "outputs": [
    {
     "data": {
      "text/plain": [
       "'piedra'"
      ]
     },
     "execution_count": 3,
     "metadata": {},
     "output_type": "execute_result"
    }
   ],
   "source": [
    "usuario"
   ]
  },
  {
   "cell_type": "code",
   "execution_count": 4,
   "metadata": {},
   "outputs": [
    {
     "data": {
      "text/plain": [
       "'papel'"
      ]
     },
     "execution_count": 4,
     "metadata": {},
     "output_type": "execute_result"
    }
   ],
   "source": [
    "maquina"
   ]
  },
  {
   "cell_type": "markdown",
   "metadata": {},
   "source": [
    "Usuario\tMaquina\tResultado\n",
    "Piedra\tPiedra\tEmpate\n",
    "Piedra\tPapel\tGM\n",
    "Piedra\tTijera\tGU\n",
    "Papel\tPiedra\tGU\n",
    "Papel\tPapel\tEmpate\n",
    "Papel\tTijera\tGM\n",
    "Tijera\tPiedra\tGM\n",
    "Tijera\tPapel\tGU\n",
    "Tijera\tTijera\tEmpate\n"
   ]
  },
  {
   "cell_type": "code",
   "execution_count": null,
   "metadata": {},
   "outputs": [],
   "source": []
  },
  {
   "cell_type": "code",
   "execution_count": 13,
   "metadata": {},
   "outputs": [
    {
     "name": "stdout",
     "output_type": "stream",
     "text": [
      "Gana Maquina, la maquina eligió papel \n",
      "Por favor, introduzca uno de estos tres: piedra, papel o tijera\n",
      "Gana usuario, la maquina eligió papel \n",
      "Gana Maquina, la maquina eligió tijera \n",
      "La maquina gana la partida\n"
     ]
    }
   ],
   "source": [
    "import random\n",
    "\n",
    "\n",
    "lista = [\"piedra\",\"papel\",\"tijera\"]\n",
    "\n",
    "rondas = 3\n",
    "\n",
    "resultado = []\n",
    "\n",
    "while rondas > 0:\n",
    "    print(\"Vamos a jugar a piedra, papel, tijera, a ver si puedes conmigo! 😏\")\n",
    "    usuario=input(\"Elige tu primera jugada piedra, papel, tijera\").lower()\n",
    "    maquina = random.choice(lista)\n",
    "    \n",
    "    if usuario == \"piedra\":\n",
    "        if maquina == \"piedra\":\n",
    "            print(f\"Vaya! quedamos empate, yo tambien elegí {maquina}  \") ## johanna añade piedra\n",
    "        elif maquina == \"papel\":\n",
    "            print(f\"Yo gano 😎 he elegido {maquina} 🧾\")\n",
    "            rondas -= 1\n",
    "            resultado.append(\"M\")\n",
    "        else: #tijera\n",
    "            print(f\"Bien hecho!! has ganado! yo elegí {maquina} ✂ \")\n",
    "            rondas -= 1  \n",
    "            resultado.append(\"U\")\n",
    "\n",
    "    elif usuario == \"papel\":\n",
    "        if maquina == \"piedra\":\n",
    "            print(f\"Ah! Ganaste esta ronda! yo elegí {maquina} \") ## johanna añade piedra\n",
    "            rondas -= 1\n",
    "            resultado.append(\"U\")\n",
    "        elif maquina == \"papel\":\n",
    "            print(f\"Empate! yo tambien elegí {maquina} 🧾 \")\n",
    "        else: #tijera\n",
    "            print(f\"Ganeeee! He elegido {maquina} ✂ \")\n",
    "            rondas -= 1\n",
    "            resultado.append(\"M\")\n",
    "\n",
    "    elif usuario == \"tijera\":\n",
    "        if maquina == \"piedra\":\n",
    "            print(f\"He ganado! mi eleccion ha sido {maquina} \") ## johanna añade piedra\n",
    "            resultado.append(\"M\")\n",
    "            rondas -= 1 \n",
    "        elif maquina == \"papel\":\n",
    "            print(f\"Bien jugado! Yo elegí {maquina} 🧾 \")\n",
    "            rondas -= 1\n",
    "            resultado.append(\"U\")\n",
    "        else: #tijera\n",
    "            print(f\"Quedamos empatadas! Yo tambien elegí {maquina} ✂ \")    \n",
    "    else:\n",
    "        print(\"Por favor, introduzca uno de estos tres: piedra, papel o tijera\")\n",
    "        continue\n",
    "\n",
    "if resultado.count(\"U\") >= 2:\n",
    "    print(\"¡Enhorabuena! Has ganado la partida\")\n",
    "\n",
    "elif resultado.count(\"M\") >= 2:\n",
    "    print(\"¡Game Over! La maquina gana la partida\")\n",
    "\n",
    "else:\n",
    "    print(\"No gana nadie\")"
   ]
  },
  {
   "cell_type": "markdown",
   "metadata": {},
   "source": [
    "**COPIA POR SI ACASO!! LA DE ABAJO ESTA LISTA PARA DARLE UN REPASO**"
   ]
  },
  {
   "cell_type": "code",
   "execution_count": 9,
   "metadata": {},
   "outputs": [
    {
     "name": "stdout",
     "output_type": "stream",
     "text": [
      "Vamos a jugar a piedra, papel, tijera, a ver si puedes conmigo! 😏\n",
      "Empate! 🙄 yo tambien elegí papel 🧾 \n",
      "Quedamos empatadas! 🤔 Yo tambien elegí tijera ✂ \n",
      "Vaya! quedamos empate 😂, yo tambien elegí piedra  \n",
      "Uy! Te has equivocado! ❌ Por favor elige: piedra, papel o tijera\n",
      "Ah! 😲 Ganaste esta ronda! 😁 yo elegí piedra \n",
      "Quedamos empatadas! 🤔 Yo tambien elegí tijera ✂ \n",
      "Bien hecho!! 🥳 has ganado! 🏆 yo elegí tijera ✂ \n",
      "Me has ganado!! 🥇 Quiero la revancha! 💪\n"
     ]
    }
   ],
   "source": [
    "import random\n",
    "\n",
    "\n",
    "lista = [\"piedra\",\"papel\",\"tijera\"]\n",
    "\n",
    "rondas = 3\n",
    "#aqui se almacenan M (maquina) o U (usuaria) segun quien gane cada ronda para luego hacer recuento\n",
    "resultado = []\n",
    "\n",
    "print(\"Vamos a jugar a piedra, papel, tijera, a ver si puedes conmigo! 😏\")\n",
    "\n",
    "while rondas > 0 and resultado.count(\"M\") < 2 and resultado.count(\"U\") < 2: ## he modificado para que cuando alguno lleve 2 rondas ganadas se salga del bucle y no espere a resolver la tercera ronda\n",
    "    \n",
    "    usuario=input(\"Elige piedra, papel, tijera\").lower()\n",
    "    maquina = random.choice(lista)\n",
    "    \n",
    "    if usuario == \"piedra\":\n",
    "        if maquina == \"piedra\":\n",
    "            print(f\"Vaya! quedamos empate 😂, yo tambien elegí {maquina}  \") ## johanna añade piedra\n",
    "        elif maquina == \"papel\":\n",
    "            print(f\"Yo gano 😎 he elegido {maquina} 🧾\")\n",
    "            rondas -= 1\n",
    "            resultado.append(\"M\")\n",
    "        else: #tijera\n",
    "            print(f\"Bien hecho!! 🥳 has ganado! 🏆 yo elegí {maquina} ✂ \")\n",
    "            rondas -= 1  \n",
    "            resultado.append(\"U\")\n",
    "\n",
    "    elif usuario == \"papel\":\n",
    "        if maquina == \"piedra\":\n",
    "            print(f\"Ah! 😲 Ganaste esta ronda! 😁 yo elegí {maquina} \") ## johanna añade piedra\n",
    "            rondas -= 1\n",
    "            resultado.append(\"U\")\n",
    "        elif maquina == \"papel\":\n",
    "            print(f\"Empate! 🙄 yo tambien elegí {maquina} 🧾 \")\n",
    "        else: #tijera\n",
    "            print(f\"Ganeeee! 🤩 He elegido {maquina} ✂ \")\n",
    "            rondas -= 1\n",
    "            resultado.append(\"M\")\n",
    "    \n",
    "    elif usuario == \"tijera\":\n",
    "        if maquina == \"piedra\":\n",
    "            print(f\"He ganado! 🤭 mi eleccion ha sido {maquina} \") ## johanna añade piedra\n",
    "            resultado.append(\"M\")\n",
    "            rondas -= 1  \n",
    "        elif maquina == \"papel\":\n",
    "            print(f\"Bien jugado! Ganaste! 🎉 Yo elegí {maquina} 🧾 \")\n",
    "            rondas -= 1\n",
    "            resultado.append(\"U\")\n",
    "        else: #tijera\n",
    "            print(f\"Quedamos empatadas! 🤔 Yo tambien elegí {maquina} ✂ \")\n",
    "            \n",
    "    else:\n",
    "        print(\"Uy! Te has equivocado! ❌ Por favor elige: piedra, papel o tijera\")\n",
    "        continue\n",
    "\n",
    "if resultado.count(\"U\") >= 2:\n",
    "    print(\"Me has ganado la partida!! 🥇 Quiero la revancha! 💪\")\n",
    "\n",
    "elif resultado.count(\"M\") >= 2:\n",
    "    print(\"He ganado esta partida! Juguemos otra vez! 😋\")\n",
    "\n",
    "else:\n",
    "    print(\"Increible!! Hemos empatado! 🤯 ¿Quieres jugar otra vez? 🤩\") ## en realidad nunca va a llegar aqui porque el empate no resta rondas si queremos que el empate sea un posible final hay que poner que el empate reste"
   ]
  }
 ],
 "metadata": {
  "kernelspec": {
   "display_name": "base",
   "language": "python",
   "name": "python3"
  },
  "language_info": {
   "codemirror_mode": {
    "name": "ipython",
    "version": 3
   },
   "file_extension": ".py",
   "mimetype": "text/x-python",
   "name": "python",
   "nbconvert_exporter": "python",
   "pygments_lexer": "ipython3",
   "version": "3.9.7"
  }
 },
 "nbformat": 4,
 "nbformat_minor": 2
}
