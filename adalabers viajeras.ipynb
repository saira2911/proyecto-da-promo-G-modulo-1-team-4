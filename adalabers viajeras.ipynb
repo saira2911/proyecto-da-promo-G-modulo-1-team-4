{
 "cells": [
  {
   "cell_type": "code",
   "execution_count": 12,
   "metadata": {},
   "outputs": [
    {
     "name": "stdout",
     "output_type": "stream",
     "text": [
      "Elige uno de estos paises y veremos cuanto sabes de el 😉: ['Francia', 'Italia', 'Brasil']\n",
      "Por favor elige un pais de la lista ['Francia', 'Italia', 'Brasil']\n"
     ]
    }
   ],
   "source": [
    "lista_paises = [\"Francia\", \"Italia\", \"Brasil\"]\n",
    "\n",
    "diccionario_monumentos = {\"Francia\" : \"Torre Eiffel\", \"Italia\" : \"Coliseo\", \"Brasil\" : \"Cristo Redentor\"}\n",
    "diccionario_gentilicios = {\"Francia\" : \"Francesa\", \"Italia\" : \"Italiana\", \"Brasil\" : \"Brasileña\"}\n",
    "diccionario_colores_banderas = {\"Francia\" : [\"Azul\", \"Blanco\", \"Rojo\"], \"Italia\" : [\"Verde\", \"Blanco\", \"Rojo\"], \"Brasil\": [\"Verde\", \"Azul\", \"Amarillo\"]}\n",
    "diccionario_capitales = {\"Francia\" : \"Paris\", \"Italia\" : \"Roma\", \"Brasil\" : \"Brasilia\"}\n",
    "\n",
    "vidas = 4\n",
    "\n",
    "print(f\"Elige uno de estos paises y veremos cuanto sabes de el 😉: {lista_paises}\")\n",
    "\n",
    "pais = input(f\"Elige el pais que quieres entre {lista_paises}\").title()\n",
    "\n",
    "while pais in lista_paises and vidas > 0:\n",
    "\n",
    "    print(\"Vamos alla, ¡mucha suerte! 💪\")\n",
    "    print(f\"Primera pregunta: ¿Cual es el gentilicio de las mujeres de {pais}? 👀\")\n",
    "    respuesta_gentilicio = input(f\"Escribe el gentilicio de las mujeres de {pais}\").title()\n",
    "\n",
    "    if diccionario_gentilicios[pais] == respuesta_gentilicio:\n",
    "        print(f\"Genial! Has acertado! El gentilicio de {pais} es {respuesta_gentilicio} 🤩\")\n",
    "    else:\n",
    "        vidas -= 1\n",
    "        print(f\"Vaya! 😥 Has dicho {respuesta_gentilicio} y la respuesta correcta es {diccionario_gentilicios[pais]}\") ##podemos añadir la opcion de repetir la pregunta??\n",
    "        print(f\"Te quedan {vidas} vidas\")\n",
    "        print(\"No te preocupes! Aun quedan muchas preguntas 🧠\")\n",
    "\n",
    "    print(f\"Vamos a por la segunda pregunta: ¿Cual es el monumento mas emblematico de {pais}? 🗿\")\n",
    "    respuesta_monumento = input(f\"Escribe el nombre del monumento mas importante de {pais}\").title()\n",
    "    \n",
    "    if diccionario_monumentos[pais] == respuesta_monumento:\n",
    "        print(f\"Yuhu! Has acertado! 🎉 El monumento mas emblematico de {pais} es {respuesta_monumento}\")\n",
    "    else:\n",
    "        vidas -= 1\n",
    "        print(f\"Ups! 😣 Has dicho {respuesta_monumento} y la respuesta correcta es {diccionario_monumentos[pais]}\")\n",
    "        print(f\"Te quedan {vidas} vidas\")\n",
    "\n",
    "        ####podemos añadir si quiere cambiar de pais a mitad de juego por si sabe mas sobre otro pais??\n",
    "\n",
    "    print(f\"Tercera pregunta 😏: ¿Cual es la capital de {pais}?\")\n",
    "    respuesta_capital = input(f\"Escribe la capital de {pais}\").title()\n",
    "    \n",
    "    if diccionario_capitales[pais] == respuesta_capital:\n",
    "        print(f\"Yas Queen! 👑 Has acertado! La respuesta es {respuesta_capital}\")\n",
    "        print(f\"Se nota que sabes mucho de {pais} 😎\")\n",
    "    else:\n",
    "        vidas -= 1\n",
    "        print(f\"Ohhh! 😔 Has dicho {respuesta_capital} y la respuesta correcta es {diccionario_capitales[pais]}\")\n",
    "        print(f\"Te quedan {vidas} vidas\")\n",
    "\n",
    "    print(\"Vamos!! Ya casi lo tienes 🔥\")\n",
    "    print(f\"Ultima pregunta: ¿Cuales son los colores de la bandera de {pais}?\")\n",
    "    respuesta_bandera = input(f\"Escribe los colores de la bandera de {pais} separados por coma\").title()\n",
    "    lista_respuesta_banderas = respuesta_bandera.split(\",\")\n",
    "\n",
    "    for color in lista_respuesta_banderas:\n",
    "\n",
    "        if color in diccionario_colores_banderas[pais]:\n",
    "            print(f\"WOW! 🥳 Has acertado!!! Los colores de la bandera de {pais} son {lista_respuesta_banderas}\") ## arreglar!! dice esto 3 veces, por cada uno de los colores\n",
    "            print(f\"Se ve que eres una Adalaber Viajera!! 🛫 Te mereces un viaje gratis a {pais} 🛬\")\n",
    "        else:\n",
    "            vidas -= 1\n",
    "            print(f\"Vaya! Has dicho {lista_respuesta_banderas} y la respuesta correcta es {diccionario_colores_banderas[pais]}\")\n",
    "            print(f\"GAME OVER!❌ Te has quedado sin vidas pero puedes volver a intentarlo cuando quieras 😋\")\n",
    "            break\n",
    "    break ##podemos añadir un mensaje si no ha perdido ni una vida felicitandola\n",
    "\n",
    "if vidas == 0:\n",
    "    print(\"Te has quedado sin vidas 😭 pero no te preocupes! puedes volver a intentarlo cuando quieras! 😋\")\n",
    "else:\n",
    "    print(f\"Por favor elige un pais de la lista {lista_paises}\")\n",
    "\n",
    "\n",
    "\n"
   ]
  },
  {
   "cell_type": "code",
   "execution_count": 6,
   "metadata": {},
   "outputs": [],
   "source": [
    "lista_paises = [\"Francia\", \"Italia\", \"Brasil\"]\n",
    "\n",
    "diccionario_paises = {\"Francia\" : [\"Torre Eiffel\", \"Francesa\", [\"Azul\", \"Blanco\", \"Rojo\"], \"Paris\"] , \"Italia\" : [\"Coliseo\", \"Italiana\", [\"Verde\", \"Blanco\", \"Rojo\"], \"Roma\"], \"Brasil\" : [\"Cristo Redentor\", \"Brasileña\", [\"Verde\", \"Azul\", \"Amarillo\"], \"Brasilia\"]}"
   ]
  },
  {
   "cell_type": "code",
   "execution_count": 5,
   "metadata": {},
   "outputs": [
    {
     "ename": "NameError",
     "evalue": "name 'n_preg' is not defined",
     "output_type": "error",
     "traceback": [
      "\u001b[0;31m---------------------------------------------------------------------------\u001b[0m",
      "\u001b[0;31mNameError\u001b[0m                                 Traceback (most recent call last)",
      "\u001b[0;32m/tmp/ipykernel_24057/1500915817.py\u001b[0m in \u001b[0;36m<module>\u001b[0;34m\u001b[0m\n\u001b[1;32m      8\u001b[0m \u001b[0mvidas\u001b[0m \u001b[0;34m=\u001b[0m \u001b[0;36m4\u001b[0m\u001b[0;34m\u001b[0m\u001b[0;34m\u001b[0m\u001b[0m\n\u001b[1;32m      9\u001b[0m \u001b[0;34m\u001b[0m\u001b[0m\n\u001b[0;32m---> 10\u001b[0;31m \u001b[0;32mdef\u001b[0m \u001b[0mcomprobar_diccionario\u001b[0m \u001b[0;34m(\u001b[0m\u001b[0mnum_pregunta\u001b[0m \u001b[0;34m=\u001b[0m \u001b[0mn_preg\u001b[0m\u001b[0;34m,\u001b[0m \u001b[0mrespuesta_dada\u001b[0m \u001b[0;34m=\u001b[0m \u001b[0mrespuesta\u001b[0m\u001b[0;34m,\u001b[0m \u001b[0mpais_elegido\u001b[0m \u001b[0;34m=\u001b[0m \u001b[0mpais\u001b[0m\u001b[0;34m)\u001b[0m\u001b[0;34m:\u001b[0m\u001b[0;34m\u001b[0m\u001b[0;34m\u001b[0m\u001b[0m\n\u001b[0m\u001b[1;32m     11\u001b[0m     \u001b[0;32mif\u001b[0m \u001b[0mrespuesta_dada\u001b[0m \u001b[0;32min\u001b[0m \u001b[0mdiccionario_paises\u001b[0m\u001b[0;34m[\u001b[0m\u001b[0mpais\u001b[0m\u001b[0;34m]\u001b[0m\u001b[0;34m:\u001b[0m\u001b[0;34m\u001b[0m\u001b[0;34m\u001b[0m\u001b[0m\n\u001b[1;32m     12\u001b[0m         \u001b[0mprint\u001b[0m\u001b[0;34m(\u001b[0m\u001b[0;34mf\"Genial! Has acertado! El gentilicio de {pais} es {respuesta_gentilicio} 🤩\"\u001b[0m\u001b[0;34m)\u001b[0m\u001b[0;34m\u001b[0m\u001b[0;34m\u001b[0m\u001b[0m\n",
      "\u001b[0;31mNameError\u001b[0m: name 'n_preg' is not defined"
     ]
    }
   ],
   "source": [
    "lista_paises = [\"Francia\", \"Italia\", \"Brasil\"]\n",
    "\n",
    "diccionario_paises = {\"Francia\" : [\"Torre Eiffel\", \"Francesa\", [\"Azul\", \"Blanco\", \"Rojo\"], \"Paris\"] , \"Italia\" : [\"Coliseo\", \"Italiana\", [\"Verde\", \"Blanco\", \"Rojo\"], \"Roma\"], \"Brasil\" : [\"Cristo Redentor\", \"Brasileña\", [\"Verde\", \"Azul\", \"Amarillo\"], \"Brasilia\"]}\n",
    "# diccionario_gentilicios = {\"Francia\" : \"Francesa\", \"Italia\" : \"Italiana\", \"Brasil\" : \"Brasileña\"}\n",
    "# diccionario_colores_banderas = {\"Francia\" : [\"Azul\", \"Blanco\", \"Rojo\"], \"Italia\" : [\"Verde\", \"Blanco\", \"Rojo\"], \"Brasil\": [\"Verde\", \"Azul\", \"Amarillo\"]}\n",
    "# diccionario_capitales = {\"Francia\" : \"Paris\", \"Italia\" : \"Roma\", \"Brasil\" : \"Brasilia\"}\n",
    "\n",
    "vidas = 4\n",
    "\n",
    "def comprobar_diccionario (num_pregunta, respuesta_dada, pais_elegido):\n",
    "    if respuesta_dada in diccionario_paises[pais]:\n",
    "        print(f\"Genial! Has acertado! La respuesta es {respuesta_dada} 🤩\")\n",
    "    else:\n",
    "        vidas -= 1\n",
    "        print(f\"Vaya! Has dicho {respuesta_gentilicio} y la respuesta correcta es {diccionario_gentilicios[pais]} 😥\") ##podemos añadir la opcion de repetir la pregunta??\n",
    "        print(f\"Te quedan {vidas} vidas\")\n",
    "        print(\"No te preocupes! Aun quedan muchas preguntas 🧠\")\n",
    "    \n",
    "\n",
    "\n",
    "\n",
    "print(f\"Elige uno de estos paises y veremos cuanto sabes de el 😉: {lista_paises}\")\n",
    "\n",
    "pais = input(f\"Elige el pais que quieres entre {lista_paises}\").title()\n",
    "\n",
    "while pais in lista_paises and vidas > 0:\n",
    "\n",
    "    print(\"Vamos alla, ¡mucha suerte! 💪\")\n",
    "    print(f\"Primera pregunta: ¿Cual es el gentilicio de las mujeres de {pais}? 👀\")\n",
    "    n_preg = 1\n",
    "    respuesta = input(f\"Escribe el gentilicio de las mujeres de {pais}\").title()\n",
    "\n",
    "    if diccionario_gentilicios[pais] == respuesta_gentilicio:\n",
    "        print(f\"Genial! Has acertado! El gentilicio de {pais} es {respuesta_gentilicio} 🤩\")\n",
    "    else:\n",
    "        vidas -= 1\n",
    "        print(f\"Vaya! Has dicho {respuesta_gentilicio} y la respuesta correcta es {diccionario_gentilicios[pais]} 😥\") ##podemos añadir la opcion de repetir la pregunta??\n",
    "        print(f\"Te quedan {vidas} vidas\")\n",
    "        print(\"No te preocupes! Aun quedan muchas preguntas 🧠\")\n",
    "\n",
    "    print(f\"Vamos a por la segunda pregunta: ¿Cual es el monumento mas emblematico de {pais}? 🗿\")\n",
    "    respuesta_monumento = input(f\"Escribe el nombre del monumento mas importante de {pais}\").title()\n",
    "    \n",
    "    if diccionario_monumentos[pais] == respuesta_monumento:\n",
    "        print(f\"Yuhu! Has acertado! 🎉 El monumento mas emblematico de {pais} es {respuesta_monumento}\")\n",
    "    else:\n",
    "        vidas -= 1\n",
    "        print(f\"Ups! Has dicho {respuesta_monumento} y la respuesta correcta es {diccionario_monumentos[pais]}\")\n",
    "        print(f\"Te quedan {vidas} vidas\")\n",
    "\n",
    "        ####podemos añadir si quiere cambiar de pais a mitad de juego por si sabe mas sobre otro pais??\n",
    "\n",
    "    print(f\"Tercera pregunta 😏: ¿Cual es la capital de {pais}?\")\n",
    "    respuesta_capital = input(f\"Escribe la capital de {pais}\").title()\n",
    "    \n",
    "    if diccionario_capitales[pais] == respuesta_capital:\n",
    "        print(f\"Genial! Has acertado! El monumento mas emblematico de {pais} es {respuesta_capital}\")\n",
    "        print(f\"Sabes mucho de {pais}\")\n",
    "    else:\n",
    "        vidas -= 1\n",
    "        print(f\"Vaya! Has dicho {respuesta_capital} y la respuesta correcta es {diccionario_capitales[pais]}\")\n",
    "        print(f\"Te quedan {vidas} vidas\")\n",
    "\n",
    "    print(f\"Ultima pregunta: ¿Cuales son los colores de la bandera de {pais}?\")\n",
    "    respuesta_bandera = input(f\"Escribe los colores de la bandera de {pais} separados por coma\").title()\n",
    "    lista_respuesta_banderas = respuesta_bandera.split(\",\")\n",
    "\n",
    "    for color in lista_respuesta_banderas:\n",
    "\n",
    "        if color in diccionario_colores_banderas[pais]:\n",
    "            print(f\"WOW! 🥳 Has acertado!!! Los colores de la bandera de {pais} son {lista_respuesta_banderas}\") ## arreglar!! dice esto 3 veces, por cada uno de los colores\n",
    "            print(f\"Se ve que eres una Adalaber Viajera!! 🛫 Te mereces un viaje gratis a {pais} 🛬\")\n",
    "        else:\n",
    "            vidas -= 1\n",
    "            print(f\"Vaya! Has dicho {lista_respuesta_banderas} y la respuesta correcta es {diccionario_colores_banderas[pais]}\")\n",
    "            print(f\"GAME OVER! Te has quedado sin vidas. Vuelve a intentarlo cuando quieras 😋\")\n",
    "            break\n",
    "    break\n",
    "else:\n",
    "    print(f\"Por favor elige un pais de la lista {lista_paises}\")\n",
    "\n",
    "\n"
   ]
  },
  {
   "cell_type": "code",
   "execution_count": 8,
   "metadata": {},
   "outputs": [
    {
     "data": {
      "text/plain": [
       "['Torre Eiffel', 'Francesa', ['Azul', 'Blanco', 'Rojo'], 'Paris']"
      ]
     },
     "execution_count": 8,
     "metadata": {},
     "output_type": "execute_result"
    }
   ],
   "source": [
    "diccionario_paises[\"Francia\"]"
   ]
  }
 ],
 "metadata": {
  "kernelspec": {
   "display_name": "base",
   "language": "python",
   "name": "python3"
  },
  "language_info": {
   "codemirror_mode": {
    "name": "ipython",
    "version": 3
   },
   "file_extension": ".py",
   "mimetype": "text/x-python",
   "name": "python",
   "nbconvert_exporter": "python",
   "pygments_lexer": "ipython3",
   "version": "3.9.0"
  }
 },
 "nbformat": 4,
 "nbformat_minor": 2
}
