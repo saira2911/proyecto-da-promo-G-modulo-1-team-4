{
 "cells": [
  {
   "cell_type": "code",
   "execution_count": 1,
   "metadata": {},
   "outputs": [
    {
     "name": "stdout",
     "output_type": "stream",
     "text": [
      "pato\n",
      "La letra que has introducido es \n",
      "Has acertado una letra, la palabra esta asi: ****\n",
      "Te has equivocado, sigue jugando\n",
      "La letra que has introducido es a\n",
      "Has acertado una letra, la palabra esta asi: *a**\n",
      "Te has equivocado, sigue jugando\n",
      "La letra que has introducido es pato\n",
      "Has acertado una letra, la palabra esta asi: *a**\n"
     ]
    }
   ],
   "source": [
    "import random\n",
    "\n",
    "palabras = [\"plato\", \"gato\", \"pato\"]\n",
    "\n",
    "palabra_secreta = random.choice(palabras)\n",
    "\n",
    "palabra_oculta = \"*\" * len(palabra_secreta)\n",
    "\n",
    "#creamos una lista con las letras de cada string para poder sacar la posicion exacta de las mismas\n",
    "\n",
    "print(palabra_secreta) # Borrarlo , al final\n",
    "#añadimos las vidas aunque no hay un maximo, es solo para llevar la cuenta\n",
    "vidas = 6\n",
    "#mientras que los strings no coincidan\n",
    "while palabra_oculta != palabra_secreta:\n",
    "    letra = input(\"Introduzca otra letra\")\n",
    "\n",
    "    print(f\"La letra que has introducido es {letra}\")\n",
    "\n",
    "    #si la letra que da el usuario esta en la palabra secreta\n",
    "    if letra in palabra_secreta:\n",
    "            for i in range(len(palabra_secreta)):\n",
    "                if palabra_secreta[i]==letra:\n",
    "                    palabra_oculta = palabra_oculta[:i]+letra+palabra_oculta[i+1:]\n",
    "                else:\n",
    "                     pass\n",
    "            print(f\"Has acertado una letra, la palabra esta asi: {palabra_oculta}\")\n",
    "    \n",
    "            posible_resolucion = input(\"Sabes cual es la palabra?\")\n",
    "    \n",
    "            if posible_resolucion == palabra_secreta:\n",
    "                print(f\"Enhorabuena, has acertado la palabra {palabra_secreta}\")\n",
    "            else:\n",
    "                print(\"Te has equivocado, sigue jugando\")\n",
    "        # else:\n",
    "        #     print(f\"esta letra: {letra} ya la has dicho\")\n",
    "    #si la letra que da el ususario no coincide con ninguna de la palabra secreta\n",
    "    else:\n",
    "        vidas -= 1\n",
    "        #mostramos el resultado al usuario\n",
    "        #para el muñeco: si la letra no esta en la palabra secreta tiene que imprimir cada parte del muñeco\n",
    "        print(f\"Esa letra no esta en la palabra, la palabra esta asi: {palabra_oculta}\")\n",
    "        if vidas == 1:\n",
    "           print(\"O\")\n",
    "        elif vidas == 2:\n",
    "           print(\" O\")\n",
    "           print(\"/\")\n",
    "\n",
    "        elif vidas == 3:\n",
    "           print(\" O\")\n",
    "           print(\"/|\")   \n",
    "\n",
    "        elif vidas == 4:\n",
    "           print(\" O\")\n",
    "           print(\"/|\\\\\")\n",
    "\n",
    "        elif vidas == 5:\n",
    "           print(\" O\")\n",
    "           print(\"/|\\\\\")\n",
    "           print(\"/\")\n",
    "           \n",
    "        elif vidas == 6:\n",
    "           print(\" O\")\n",
    "           print(\"/|\\\\\")\n",
    "           print(\"/ \\\\\")\n",
    "\n",
    "           print(\"Has perdido el juego\")\n",
    "           break\n",
    "    \n",
    "#una vez coincidan los 2 strings\n",
    "print(f\"Enhorabuena, has acertado la palabra {palabra_oculta}, has gastado {vidas} vidas\")"
   ]
  },
  {
   "cell_type": "markdown",
   "metadata": {},
   "source": [
    "objetivo: completar la palabra antes de quedarse sin vidas (el muñeco se completa cuando no quedan vidas)\n",
    "\n",
    "primer handicap:\n",
    " - Si la letra solo esta una vez y el usuario la introduce dos veces: No resta vida y mensaje \"Esta letra ya la has dicho prueba con otra\"\n",
    " - Si la letra esta varias veces el programa debe reconocerla cada vez, en su posicion\n",
    " - Si llegado un punto el usuario quiere introducir la palabra completa debe poder hacerlo\n",
    "    En este caso si falla le restaria una vida\n"
   ]
  },
  {
   "cell_type": "code",
   "execution_count": 5,
   "metadata": {},
   "outputs": [
    {
     "name": "stdout",
     "output_type": "stream",
     "text": [
      "mariposa\n",
      "********\n"
     ]
    }
   ],
   "source": [
    "import random\n",
    "\n",
    "palabras = [\"coche\", \"perro\", \"mariposa\"]\n",
    "\n",
    "palabra_secreta = random.choice(palabras)\n",
    "print(palabra_secreta)\n",
    "palabra_oculta = \"*\" * len(palabra_secreta)\n",
    "\n",
    "print(palabra_oculta)"
   ]
  },
  {
   "cell_type": "code",
   "execution_count": 8,
   "metadata": {},
   "outputs": [
    {
     "ename": "SyntaxError",
     "evalue": "EOL while scanning string literal (4136057570.py, line 1)",
     "output_type": "error",
     "traceback": [
      "\u001b[0;36m  File \u001b[0;32m\"/tmp/ipykernel_15756/4136057570.py\"\u001b[0;36m, line \u001b[0;32m1\u001b[0m\n\u001b[0;31m    print(\"_\\n\u001b[0m\n\u001b[0m              ^\u001b[0m\n\u001b[0;31mSyntaxError\u001b[0m\u001b[0;31m:\u001b[0m EOL while scanning string literal\n"
     ]
    }
   ],
   "source": []
  },
  {
   "cell_type": "code",
   "execution_count": null,
   "metadata": {},
   "outputs": [],
   "source": [
    "import random\n",
    "\n",
    "palabras = [\"plato\", \"gato\", \"pato\"]\n",
    "\n",
    "palabra_secreta = random.choice(palabras)\n",
    "\n",
    "palabra_oculta = \"*\" * len(palabra_secreta)\n",
    "\n",
    "letra = input(\"Introduzca una letra\")\n",
    "\n",
    "#creamos una lista con las letras de cada string para poder sacar la posicion exacta de las mismas\n",
    "\n",
    "lista_ps = list(palabra_secreta)\n",
    "lista_po = list(palabra_oculta)\n",
    "lista_letras = []\n",
    "\n",
    "lista_letra_intro = []"
   ]
  }
 ],
 "metadata": {
  "kernelspec": {
   "display_name": "base",
   "language": "python",
   "name": "python3"
  },
  "language_info": {
   "codemirror_mode": {
    "name": "ipython",
    "version": 3
   },
   "file_extension": ".py",
   "mimetype": "text/x-python",
   "name": "python",
   "nbconvert_exporter": "python",
   "pygments_lexer": "ipython3",
   "version": "3.9.7"
  }
 },
 "nbformat": 4,
 "nbformat_minor": 2
}
