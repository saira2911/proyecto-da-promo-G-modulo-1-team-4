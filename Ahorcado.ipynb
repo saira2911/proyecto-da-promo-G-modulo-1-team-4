{
 "cells": [
  {
   "cell_type": "code",
   "execution_count": 1,
   "metadata": {},
   "outputs": [
    {
     "name": "stdout",
     "output_type": "stream",
     "text": [
      "plato\n",
      "La letra que has introducido es \n",
      "Esa letra no esta en la palabra, la palabra esta asi: *****\n",
      "|\n",
      "O\n",
      "plato\n",
      "La letra que has introducido es a\n",
      "esta letra: a ya la has dicho\n",
      "plato\n",
      "La letra que has introducido es a\n",
      "esta letra: a ya la has dicho\n",
      "plato\n",
      "La letra que has introducido es a\n",
      "esta letra: a ya la has dicho\n",
      "plato\n",
      "La letra que has introducido es t\n",
      "esta letra: t ya la has dicho\n",
      "plato\n",
      "La letra que has introducido es t\n",
      "esta letra: t ya la has dicho\n",
      "plato\n"
     ]
    }
   ],
   "source": [
    "import random\n",
    "\n",
    "palabras = [\"plato\", \"gato\", \"pato\"]\n",
    "\n",
    "palabra_secreta = random.choice(palabras)\n",
    "\n",
    "palabra_oculta = \"*\" * len(palabra_secreta)\n",
    "\n",
    "#creamos una lista con las letras de cada string para poder sacar la posicion exacta de las mismas\n",
    "# lista_ps = list(palabra_secreta)\n",
    "# lista_po = list(palabra_oculta)\n",
    "# lista_letras = []\n",
    "\n",
    "#añadimos las vidas aunque no hay un maximo, es solo para llevar la cuenta\n",
    "vidas = 6\n",
    "#mientras que los strings no coincidan\n",
    "while palabra_oculta != palabra_secreta:\n",
    "    print(palabra_secreta) # Borrarlo , al final. \n",
    "    letra = input(\"Introduzca otra letra\")\n",
    "\n",
    "    print(f\"La letra que has introducido es {letra}\")\n",
    "\n",
    "    #si la letra que da el usuario esta en la palabra secreta\n",
    "    if letra in palabra_oculta:\n",
    "            for i in range(len(palabra_secreta)):\n",
    "                if palabra_secreta[i]==letra:\n",
    "                    palabra_oculta = palabra_oculta[:i]+letra+palabra_oculta[i+1:]\n",
    "\n",
    "            \n",
    "        # if letra not in lista_letras:\n",
    "            # #eliminamos el * correspondiente segun el indice de la letra dada por el usario\n",
    "            # lista_po.pop(lista_ps.index(letra))\n",
    "            # #insertamos la letra donde estaba el * que hemos eliminado\n",
    "            # lista_po.insert(lista_ps.index(letra), letra)\n",
    "            # #unimos de nuevo la palabra oculta para mostrarla con la nueva letra revelada\n",
    "            # palabra_oculta = \"\".join(lista_po)\n",
    "            # #mostramos el resultado al usuario\n",
    "            print(f\"Has acertado una letra, la palabra esta asi: {palabra_oculta}\")\n",
    "            posible_resolucion = input()\n",
    "        else:\n",
    "            print(f\"esta letra: {letra} ya la has dicho\")\n",
    "    #si la letra que da el ususario no coincide con ninguna de la palabra secreta\n",
    "    else:\n",
    "        vidas -= 1\n",
    "        #mostramos el resultado al usuario\n",
    "        #para el muñeco: si la letra no esta en la palabra secreta tiene que imprimir cada parte del muñeco\n",
    "        print(f\"Esa letra no esta en la palabra, la palabra esta asi: {palabra_oculta}\")\n",
    "        print(\"|\")\n",
    "        print(\"O\")\n",
    "    \n",
    "#una vez coincidan los 2 strings\n",
    "print(f\"Enhorabuena, has acertado la palabra {palabra_oculta}, has gastado {vidas} vidas\")"
   ]
  },
  {
   "cell_type": "markdown",
   "metadata": {},
   "source": [
    "objetivo: completar la palabra antes de quedarse sin vidas (el muñeco se completa cuando no quedan vidas)\n",
    "\n",
    "primer handicap:\n",
    " - Si la letra solo esta una vez y el usuario la introduce dos veces: No resta vida y mensaje \"Esta letra ya la has dicho prueba con otra\"\n",
    " - Si la letra esta varias veces el programa debe reconocerla cada vez, en su posicion\n",
    " - Si llegado un punto el usuario quiere introducir la palabra completa debe poder hacerlo\n",
    "    En este caso si falla le restaria una vida\n"
   ]
  },
  {
   "cell_type": "code",
   "execution_count": 5,
   "metadata": {},
   "outputs": [
    {
     "name": "stdout",
     "output_type": "stream",
     "text": [
      "mariposa\n",
      "********\n"
     ]
    }
   ],
   "source": [
    "import random\n",
    "\n",
    "palabras = [\"coche\", \"perro\", \"mariposa\"]\n",
    "\n",
    "palabra_secreta = random.choice(palabras)\n",
    "print(palabra_secreta)\n",
    "palabra_oculta = \"*\" * len(palabra_secreta)\n",
    "\n",
    "print(palabra_oculta)"
   ]
  },
  {
   "cell_type": "code",
   "execution_count": 8,
   "metadata": {},
   "outputs": [
    {
     "ename": "SyntaxError",
     "evalue": "EOL while scanning string literal (4136057570.py, line 1)",
     "output_type": "error",
     "traceback": [
      "\u001b[0;36m  File \u001b[0;32m\"/tmp/ipykernel_15756/4136057570.py\"\u001b[0;36m, line \u001b[0;32m1\u001b[0m\n\u001b[0;31m    print(\"_\\n\u001b[0m\n\u001b[0m              ^\u001b[0m\n\u001b[0;31mSyntaxError\u001b[0m\u001b[0;31m:\u001b[0m EOL while scanning string literal\n"
     ]
    }
   ],
   "source": []
  },
  {
   "cell_type": "code",
   "execution_count": null,
   "metadata": {},
   "outputs": [],
   "source": [
    "import random\n",
    "\n",
    "palabras = [\"plato\", \"gato\", \"pato\"]\n",
    "\n",
    "palabra_secreta = random.choice(palabras)\n",
    "\n",
    "palabra_oculta = \"*\" * len(palabra_secreta)\n",
    "\n",
    "letra = input(\"Introduzca una letra\")\n",
    "\n",
    "#creamos una lista con las letras de cada string para poder sacar la posicion exacta de las mismas\n",
    "\n",
    "lista_ps = list(palabra_secreta)\n",
    "lista_po = list(palabra_oculta)\n",
    "lista_letras = []\n",
    "\n",
    "lista_letra_intro = []"
   ]
  }
 ],
 "metadata": {
  "kernelspec": {
   "display_name": "base",
   "language": "python",
   "name": "python3"
  },
  "language_info": {
   "codemirror_mode": {
    "name": "ipython",
    "version": 3
   },
   "file_extension": ".py",
   "mimetype": "text/x-python",
   "name": "python",
   "nbconvert_exporter": "python",
   "pygments_lexer": "ipython3",
   "version": "3.9.12"
  }
 },
 "nbformat": 4,
 "nbformat_minor": 2
}
